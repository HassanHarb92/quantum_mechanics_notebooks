{
 "cells": [
  {
   "cell_type": "code",
   "execution_count": 9,
   "id": "5d953b54",
   "metadata": {},
   "outputs": [
    {
     "data": {
      "application/vnd.jupyter.widget-view+json": {
       "model_id": "51b3939df9494cbcab0c844c9ab701cc",
       "version_major": 2,
       "version_minor": 0
      },
      "text/plain": [
       "interactive(children=(FloatSlider(value=0.0, description='k', max=10.0, min=-10.0), Output()), _dom_classes=('…"
      ]
     },
     "metadata": {},
     "output_type": "display_data"
    }
   ],
   "source": [
    "import numpy as np\n",
    "import matplotlib.pyplot as plt\n",
    "from ipywidgets import interactive\n",
    "\n",
    "def wavefunction(k, x):\n",
    "    e_pos = np.exp(1j * k * x)\n",
    "    e_neg = np.exp(-1j * k * x)\n",
    "    \n",
    "    real_part = 0.5 * (e_pos + e_neg)\n",
    "    imag_part = 0.5j * (e_pos - e_neg)\n",
    "    \n",
    "    return np.real(real_part), np.imag(imag_part)\n",
    "\n",
    "def plot_wavefunction(k):\n",
    "    x = np.linspace(-10, 10, 1000)\n",
    "    real_part, imag_part = wavefunction(k, x)\n",
    "    magnitude = real_part + imag_part\n",
    "    \n",
    "    plt.figure(figsize=(10, 6))\n",
    "    plt.plot(x, real_part, label=\"Real part\")\n",
    "    plt.plot(x, imag_part, label=\"Imaginary part\")\n",
    "    plt.plot(x, magnitude, label=\"Sum\", linestyle='--')\n",
    "    plt.title(f\"Wavefunction for k = {k}\")\n",
    "    plt.xlabel(\"Position (x)\")\n",
    "    plt.ylabel(\"Amplitude\")\n",
    "    plt.legend()\n",
    "    plt.grid(True)\n",
    "    plt.show()\n",
    "\n",
    "interactive_plot = interactive(plot_wavefunction, k=(-10, 10, 0.1))\n",
    "interactive_plot\n"
   ]
  }
 ],
 "metadata": {
  "kernelspec": {
   "display_name": "Python 3 (ipykernel)",
   "language": "python",
   "name": "python3"
  },
  "language_info": {
   "codemirror_mode": {
    "name": "ipython",
    "version": 3
   },
   "file_extension": ".py",
   "mimetype": "text/x-python",
   "name": "python",
   "nbconvert_exporter": "python",
   "pygments_lexer": "ipython3",
   "version": "3.9.12"
  }
 },
 "nbformat": 4,
 "nbformat_minor": 5
}
